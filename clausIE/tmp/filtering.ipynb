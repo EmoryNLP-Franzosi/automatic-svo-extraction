{
 "cells": [
  {
   "cell_type": "code",
   "execution_count": 1,
   "metadata": {
    "collapsed": true
   },
   "outputs": [],
   "source": [
    "import pandas as pd\n",
    "import numpy as np"
   ]
  },
  {
   "cell_type": "code",
   "execution_count": 5,
   "metadata": {
    "collapsed": false
   },
   "outputs": [
    {
     "data": {
      "text/plain": [
       "u'riddl'"
      ]
     },
     "execution_count": 5,
     "metadata": {},
     "output_type": "execute_result"
    }
   ],
   "source": [
    "# understanding stem != original form\n",
    "stemmer.stem('riddled')"
   ]
  },
  {
   "cell_type": "code",
   "execution_count": 14,
   "metadata": {
    "collapsed": false
   },
   "outputs": [],
   "source": [
    "# filtering the non-SVO out\n",
    "import nltk\n",
    "from nltk.stem.snowball import SnowballStemmer\n",
    "stemmer = SnowballStemmer(\"english\")\n",
    "with open('svo.txt') as f:\n",
    "    results = []\n",
    "    lines = f.readlines()\n",
    "    for line in lines:\n",
    "        line = [token.strip() for token in line.split(',') if token.strip()]\n",
    "        initials = [each[0] for each in line if each]\n",
    "        initials = set(''.join(initials))\n",
    "        if initials == set('SVO'):\n",
    "            results.append(line)\n",
    "    with open('final_svo.txt', 'w') as out:\n",
    "#       line: list of tuple pairs \n",
    "        for line in results:\n",
    "            line_dict = {}\n",
    "            for i, pair in enumerate(line):\n",
    "                pair = pair.split(':')\n",
    "                if len(pair) == 2:\n",
    "                    label = pair[0].strip()\n",
    "                    word = pair[1].strip().strip('\"\"').lower()\n",
    "                    if label == 'V':\n",
    "                        word = stemmer.stem(word)\n",
    "#                         print('%s: %s' % (label, word))\n",
    "                    line_dict.update({label: word})\n",
    "            out.write('%s: %-15s, ' % ('S', line_dict['S']))\n",
    "            out.write('%s: %-15s, ' % ('V', line_dict['V']))\n",
    "            out.write('%s: %-15s' % ('O', line_dict['O']))\n",
    "            out.write('\\n')"
   ]
  },
  {
   "cell_type": "code",
   "execution_count": 15,
   "metadata": {
    "collapsed": false
   },
   "outputs": [
    {
     "name": "stdout",
     "output_type": "stream",
     "text": [
      "638\n"
     ]
    }
   ],
   "source": [
    "with open('final_svo.txt') as f:\n",
    "    lines = f.readlines()\n",
    "    print(len(lines))"
   ]
  },
  {
   "cell_type": "code",
   "execution_count": 16,
   "metadata": {
    "collapsed": false
   },
   "outputs": [
    {
     "name": "stdout",
     "output_type": "stream",
     "text": [
      "Index([u'Verb', u'Frequency Verb', u'WordNet', u'PC-ACE Verbal Phrase',\n",
      "       u'Student check (if social action put an X in the appropriate cell)',\n",
      "       u'Confirmed social verb'],\n",
      "      dtype='object')\n"
     ]
    },
    {
     "data": {
      "text/html": [
       "<div>\n",
       "<table border=\"1\" class=\"dataframe\">\n",
       "  <thead>\n",
       "    <tr style=\"text-align: right;\">\n",
       "      <th></th>\n",
       "      <th>Verb</th>\n",
       "      <th>Frequency Verb</th>\n",
       "      <th>WordNet</th>\n",
       "      <th>PC-ACE Verbal Phrase</th>\n",
       "      <th>Student check (if social action put an X in the appropriate cell)</th>\n",
       "      <th>Confirmed social verb</th>\n",
       "    </tr>\n",
       "  </thead>\n",
       "  <tbody>\n",
       "    <tr>\n",
       "      <th>0</th>\n",
       "      <td>lynch</td>\n",
       "      <td>890.0</td>\n",
       "      <td>x</td>\n",
       "      <td>x</td>\n",
       "      <td>x</td>\n",
       "      <td>x</td>\n",
       "    </tr>\n",
       "    <tr>\n",
       "      <th>1</th>\n",
       "      <td>read</td>\n",
       "      <td>30.0</td>\n",
       "      <td>x</td>\n",
       "      <td>NaN</td>\n",
       "      <td>x</td>\n",
       "      <td>x</td>\n",
       "    </tr>\n",
       "    <tr>\n",
       "      <th>2</th>\n",
       "      <td>tell</td>\n",
       "      <td>662.0</td>\n",
       "      <td>x</td>\n",
       "      <td>x</td>\n",
       "      <td>x</td>\n",
       "      <td>x</td>\n",
       "    </tr>\n",
       "    <tr>\n",
       "      <th>3</th>\n",
       "      <td>drive</td>\n",
       "      <td>189.0</td>\n",
       "      <td>x</td>\n",
       "      <td>x</td>\n",
       "      <td>x</td>\n",
       "      <td>x</td>\n",
       "    </tr>\n",
       "    <tr>\n",
       "      <th>4</th>\n",
       "      <td>take</td>\n",
       "      <td>2022.0</td>\n",
       "      <td>x</td>\n",
       "      <td>x</td>\n",
       "      <td>x</td>\n",
       "      <td>x</td>\n",
       "    </tr>\n",
       "  </tbody>\n",
       "</table>\n",
       "</div>"
      ],
      "text/plain": [
       "    Verb  Frequency Verb WordNet PC-ACE Verbal Phrase  \\\n",
       "0  lynch           890.0       x                    x   \n",
       "1   read            30.0       x                  NaN   \n",
       "2   tell           662.0       x                    x   \n",
       "3  drive           189.0       x                    x   \n",
       "4   take          2022.0       x                    x   \n",
       "\n",
       "  Student check (if social action put an X in the appropriate cell)  \\\n",
       "0                                                  x                  \n",
       "1                                                  x                  \n",
       "2                                                  x                  \n",
       "3                                                  x                  \n",
       "4                                                  x                  \n",
       "\n",
       "  Confirmed social verb  \n",
       "0                     x  \n",
       "1                     x  \n",
       "2                     x  \n",
       "3                     x  \n",
       "4                     x  "
      ]
     },
     "execution_count": 16,
     "metadata": {},
     "output_type": "execute_result"
    }
   ],
   "source": [
    "# filtering SVO that is beyond our purpose\n",
    "verb_df = pd.read_csv('verbs.csv')\n",
    "print(verb_df.columns)\n",
    "verb_df.head()"
   ]
  },
  {
   "cell_type": "code",
   "execution_count": 17,
   "metadata": {
    "collapsed": false
   },
   "outputs": [],
   "source": [
    "confirmed = verb_df['Confirmed social verb'].isnull()"
   ]
  },
  {
   "cell_type": "code",
   "execution_count": 18,
   "metadata": {
    "collapsed": false
   },
   "outputs": [],
   "source": [
    "idx = verb_df[confirmed==False].index.tolist()"
   ]
  },
  {
   "cell_type": "code",
   "execution_count": 19,
   "metadata": {
    "collapsed": false
   },
   "outputs": [],
   "source": [
    "verbs = set(verb_df.loc[idx]['Verb'].tolist())"
   ]
  },
  {
   "cell_type": "code",
   "execution_count": 30,
   "metadata": {
    "collapsed": false
   },
   "outputs": [],
   "source": [
    "actors_df = pd.read_csv('actors.csv')\n",
    "confirmed = actors_df['Confirmed social noun'].isnull()\n",
    "idx = actors_df[confirmed == False].index.tolist()\n",
    "# print(actors_df.loc[idx].head())\n",
    "actors = actors_df.loc[idx]['Stanford Noun']\n",
    "actors = set(actor.lower() for actor in actors)"
   ]
  },
  {
   "cell_type": "code",
   "execution_count": 31,
   "metadata": {
    "collapsed": false
   },
   "outputs": [
    {
     "name": "stdout",
     "output_type": "stream",
     "text": [
      "  Stanford Noun  Frequency Noun WordNet Social Actor  \\\n",
      "0           man            3681                    x   \n",
      "1         negro            7083                    x   \n",
      "2           mob            2171                    x   \n",
      "3        whites             123                  NaN   \n",
      "4        parent              19                    x   \n",
      "\n",
      "  PC-ACE Individual or Collective Actor  \\\n",
      "0                                     x   \n",
      "1                                     x   \n",
      "2                                     x   \n",
      "3                                     x   \n",
      "4                                   NaN   \n",
      "\n",
      "  Student check (if social actor put an X in the appropriate cell)  \\\n",
      "0                                                  x                 \n",
      "1                                                  x                 \n",
      "2                                                  x                 \n",
      "3                                                  x                 \n",
      "4                                                  x                 \n",
      "\n",
      "  Confirmed social noun  \n",
      "0                     x  \n",
      "1                     x  \n",
      "2                     x  \n",
      "3                     x  \n",
      "4                     x  \n"
     ]
    }
   ],
   "source": [
    "print(actors_df.head())"
   ]
  },
  {
   "cell_type": "code",
   "execution_count": 32,
   "metadata": {
    "collapsed": false
   },
   "outputs": [
    {
     "name": "stdout",
     "output_type": "stream",
     "text": [
      "There are 184 number of SVOs extracted from 100 lynching articles.\n"
     ]
    }
   ],
   "source": [
    "\n",
    "with open('final_svo.txt','r') as f:\n",
    "    final_svo = []\n",
    "    lines = f.readlines()\n",
    "    for l in lines:\n",
    "        isConfirmed = True\n",
    "        for pair in l.strip().split(','):\n",
    "#             print(pair)\n",
    "            if len(pair.split(':'))==2:\n",
    "                label, word = pair.split(':')\n",
    "            else:\n",
    "                isConfirmed = False\n",
    "                break\n",
    "            label = label.strip()\n",
    "            word = word.strip()\n",
    "#           obtain the stem of word\n",
    "            if label == 'S' and word not in actors:\n",
    "                isConfirmed = False\n",
    "                break\n",
    "#             if label =='V' and word not in verbs:\n",
    "#                 isConfirmed = False\n",
    "#                 break\n",
    "        if isConfirmed:\n",
    "            final_svo.append(l)\n",
    "#         print(final_svo)\n",
    "    with open('terminal_svo.txt', 'w') as out:\n",
    "        print('There are %d number of SVOs extracted from 100 lynching articles.' % len(final_svo))\n",
    "        for line in final_svo:\n",
    "            out.write(line)\n",
    "#             out.write('\\n')"
   ]
  },
  {
   "cell_type": "code",
   "execution_count": null,
   "metadata": {
    "collapsed": true
   },
   "outputs": [],
   "source": []
  },
  {
   "cell_type": "code",
   "execution_count": null,
   "metadata": {
    "collapsed": true
   },
   "outputs": [],
   "source": []
  }
 ],
 "metadata": {
  "kernelspec": {
   "display_name": "Python 2",
   "language": "python",
   "name": "python2"
  },
  "language_info": {
   "codemirror_mode": {
    "name": "ipython",
    "version": 2
   },
   "file_extension": ".py",
   "mimetype": "text/x-python",
   "name": "python",
   "nbconvert_exporter": "python",
   "pygments_lexer": "ipython2",
   "version": "2.7.13"
  }
 },
 "nbformat": 4,
 "nbformat_minor": 2
}
